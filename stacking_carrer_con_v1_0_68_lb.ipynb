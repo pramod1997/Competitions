{
  "nbformat": 4,
  "nbformat_minor": 0,
  "metadata": {
    "colab": {
      "name": "stacking_carrer_con_v1_0.68_lb.ipynb",
      "version": "0.3.2",
      "provenance": [],
      "collapsed_sections": [],
      "include_colab_link": true
    },
    "kernelspec": {
      "name": "python3",
      "display_name": "Python 3"
    }
  },
  "cells": [
    {
      "cell_type": "markdown",
      "metadata": {
        "id": "view-in-github",
        "colab_type": "text"
      },
      "source": [
        "<a href=\"https://colab.research.google.com/github/pramod1997/Competitions/blob/master/stacking_carrer_con_v1_0_68_lb.ipynb\" target=\"_parent\"><img src=\"https://colab.research.google.com/assets/colab-badge.svg\" alt=\"Open In Colab\"/></a>"
      ]
    },
    {
      "metadata": {
        "id": "NM-4rx9Koqwg",
        "colab_type": "code",
        "colab": {}
      },
      "cell_type": "code",
      "source": [
        "# first stacked model scored -> 0.68 on LB and 0.98 on CV :-<  \n",
        "# finetuning each model to improve accuracy "
      ],
      "execution_count": 0,
      "outputs": []
    },
    {
      "metadata": {
        "id": "TDlJslJM3z5K",
        "colab_type": "code",
        "outputId": "e32548ea-4678-4332-94af-268a7efb5b2d",
        "colab": {
          "base_uri": "https://localhost:8080/",
          "height": 102
        }
      },
      "cell_type": "code",
      "source": [
        "!unzip career-con-2019.zip"
      ],
      "execution_count": 1,
      "outputs": [
        {
          "output_type": "stream",
          "text": [
            "Archive:  career-con-2019.zip\n",
            "  inflating: X_test.csv              \n",
            "  inflating: y_train.csv             \n",
            "  inflating: sample_submission.csv   \n",
            "  inflating: X_train.csv             \n"
          ],
          "name": "stdout"
        }
      ]
    },
    {
      "metadata": {
        "id": "2CX_HvdwGrNE",
        "colab_type": "code",
        "colab": {}
      },
      "cell_type": "code",
      "source": [
        "import pandas as pd\n",
        "import numpy as np"
      ],
      "execution_count": 0,
      "outputs": []
    },
    {
      "metadata": {
        "id": "8UHp-HJtDTr-",
        "colab_type": "code",
        "colab": {}
      },
      "cell_type": "code",
      "source": [
        "X_train = pd.read_csv('X_train.csv')\n",
        "Y_train = pd.read_csv('y_train.csv')\n",
        "X_test = pd.read_csv('X_test.csv')\n",
        "\n"
      ],
      "execution_count": 0,
      "outputs": []
    },
    {
      "metadata": {
        "id": "2ohQbTILHjdr",
        "colab_type": "code",
        "colab": {
          "base_uri": "https://localhost:8080/",
          "height": 224
        },
        "outputId": "05d258a7-7963-46e1-c71d-11811d519b82"
      },
      "cell_type": "code",
      "source": [
        "X_train.head()"
      ],
      "execution_count": 4,
      "outputs": [
        {
          "output_type": "execute_result",
          "data": {
            "text/html": [
              "<div>\n",
              "<style scoped>\n",
              "    .dataframe tbody tr th:only-of-type {\n",
              "        vertical-align: middle;\n",
              "    }\n",
              "\n",
              "    .dataframe tbody tr th {\n",
              "        vertical-align: top;\n",
              "    }\n",
              "\n",
              "    .dataframe thead th {\n",
              "        text-align: right;\n",
              "    }\n",
              "</style>\n",
              "<table border=\"1\" class=\"dataframe\">\n",
              "  <thead>\n",
              "    <tr style=\"text-align: right;\">\n",
              "      <th></th>\n",
              "      <th>row_id</th>\n",
              "      <th>series_id</th>\n",
              "      <th>measurement_number</th>\n",
              "      <th>orientation_X</th>\n",
              "      <th>orientation_Y</th>\n",
              "      <th>orientation_Z</th>\n",
              "      <th>orientation_W</th>\n",
              "      <th>angular_velocity_X</th>\n",
              "      <th>angular_velocity_Y</th>\n",
              "      <th>angular_velocity_Z</th>\n",
              "      <th>linear_acceleration_X</th>\n",
              "      <th>linear_acceleration_Y</th>\n",
              "      <th>linear_acceleration_Z</th>\n",
              "    </tr>\n",
              "  </thead>\n",
              "  <tbody>\n",
              "    <tr>\n",
              "      <th>0</th>\n",
              "      <td>0_0</td>\n",
              "      <td>0</td>\n",
              "      <td>0</td>\n",
              "      <td>-0.75853</td>\n",
              "      <td>-0.63435</td>\n",
              "      <td>-0.10488</td>\n",
              "      <td>-0.10597</td>\n",
              "      <td>0.107650</td>\n",
              "      <td>0.017561</td>\n",
              "      <td>0.000767</td>\n",
              "      <td>-0.74857</td>\n",
              "      <td>2.1030</td>\n",
              "      <td>-9.7532</td>\n",
              "    </tr>\n",
              "    <tr>\n",
              "      <th>1</th>\n",
              "      <td>0_1</td>\n",
              "      <td>0</td>\n",
              "      <td>1</td>\n",
              "      <td>-0.75853</td>\n",
              "      <td>-0.63434</td>\n",
              "      <td>-0.10490</td>\n",
              "      <td>-0.10600</td>\n",
              "      <td>0.067851</td>\n",
              "      <td>0.029939</td>\n",
              "      <td>0.003385</td>\n",
              "      <td>0.33995</td>\n",
              "      <td>1.5064</td>\n",
              "      <td>-9.4128</td>\n",
              "    </tr>\n",
              "    <tr>\n",
              "      <th>2</th>\n",
              "      <td>0_2</td>\n",
              "      <td>0</td>\n",
              "      <td>2</td>\n",
              "      <td>-0.75853</td>\n",
              "      <td>-0.63435</td>\n",
              "      <td>-0.10492</td>\n",
              "      <td>-0.10597</td>\n",
              "      <td>0.007275</td>\n",
              "      <td>0.028934</td>\n",
              "      <td>-0.005978</td>\n",
              "      <td>-0.26429</td>\n",
              "      <td>1.5922</td>\n",
              "      <td>-8.7267</td>\n",
              "    </tr>\n",
              "    <tr>\n",
              "      <th>3</th>\n",
              "      <td>0_3</td>\n",
              "      <td>0</td>\n",
              "      <td>3</td>\n",
              "      <td>-0.75852</td>\n",
              "      <td>-0.63436</td>\n",
              "      <td>-0.10495</td>\n",
              "      <td>-0.10597</td>\n",
              "      <td>-0.013053</td>\n",
              "      <td>0.019448</td>\n",
              "      <td>-0.008974</td>\n",
              "      <td>0.42684</td>\n",
              "      <td>1.0993</td>\n",
              "      <td>-10.0960</td>\n",
              "    </tr>\n",
              "    <tr>\n",
              "      <th>4</th>\n",
              "      <td>0_4</td>\n",
              "      <td>0</td>\n",
              "      <td>4</td>\n",
              "      <td>-0.75852</td>\n",
              "      <td>-0.63435</td>\n",
              "      <td>-0.10495</td>\n",
              "      <td>-0.10596</td>\n",
              "      <td>0.005135</td>\n",
              "      <td>0.007652</td>\n",
              "      <td>0.005245</td>\n",
              "      <td>-0.50969</td>\n",
              "      <td>1.4689</td>\n",
              "      <td>-10.4410</td>\n",
              "    </tr>\n",
              "  </tbody>\n",
              "</table>\n",
              "</div>"
            ],
            "text/plain": [
              "  row_id  series_id  measurement_number  orientation_X  orientation_Y  \\\n",
              "0    0_0          0                   0       -0.75853       -0.63435   \n",
              "1    0_1          0                   1       -0.75853       -0.63434   \n",
              "2    0_2          0                   2       -0.75853       -0.63435   \n",
              "3    0_3          0                   3       -0.75852       -0.63436   \n",
              "4    0_4          0                   4       -0.75852       -0.63435   \n",
              "\n",
              "   orientation_Z  orientation_W  angular_velocity_X  angular_velocity_Y  \\\n",
              "0       -0.10488       -0.10597            0.107650            0.017561   \n",
              "1       -0.10490       -0.10600            0.067851            0.029939   \n",
              "2       -0.10492       -0.10597            0.007275            0.028934   \n",
              "3       -0.10495       -0.10597           -0.013053            0.019448   \n",
              "4       -0.10495       -0.10596            0.005135            0.007652   \n",
              "\n",
              "   angular_velocity_Z  linear_acceleration_X  linear_acceleration_Y  \\\n",
              "0            0.000767               -0.74857                 2.1030   \n",
              "1            0.003385                0.33995                 1.5064   \n",
              "2           -0.005978               -0.26429                 1.5922   \n",
              "3           -0.008974                0.42684                 1.0993   \n",
              "4            0.005245               -0.50969                 1.4689   \n",
              "\n",
              "   linear_acceleration_Z  \n",
              "0                -9.7532  \n",
              "1                -9.4128  \n",
              "2                -8.7267  \n",
              "3               -10.0960  \n",
              "4               -10.4410  "
            ]
          },
          "metadata": {
            "tags": []
          },
          "execution_count": 4
        }
      ]
    },
    {
      "metadata": {
        "id": "_sRKXraYDpK_",
        "colab_type": "code",
        "outputId": "db83ceea-b651-456a-bd5e-a0bd6d0011cc",
        "colab": {
          "base_uri": "https://localhost:8080/",
          "height": 187
        }
      },
      "cell_type": "code",
      "source": [
        "X_train['measurement_number'].unique()  ## 128 observation/experiment  for each series id "
      ],
      "execution_count": 5,
      "outputs": [
        {
          "output_type": "execute_result",
          "data": {
            "text/plain": [
              "array([  0,   1,   2,   3,   4,   5,   6,   7,   8,   9,  10,  11,  12,\n",
              "        13,  14,  15,  16,  17,  18,  19,  20,  21,  22,  23,  24,  25,\n",
              "        26,  27,  28,  29,  30,  31,  32,  33,  34,  35,  36,  37,  38,\n",
              "        39,  40,  41,  42,  43,  44,  45,  46,  47,  48,  49,  50,  51,\n",
              "        52,  53,  54,  55,  56,  57,  58,  59,  60,  61,  62,  63,  64,\n",
              "        65,  66,  67,  68,  69,  70,  71,  72,  73,  74,  75,  76,  77,\n",
              "        78,  79,  80,  81,  82,  83,  84,  85,  86,  87,  88,  89,  90,\n",
              "        91,  92,  93,  94,  95,  96,  97,  98,  99, 100, 101, 102, 103,\n",
              "       104, 105, 106, 107, 108, 109, 110, 111, 112, 113, 114, 115, 116,\n",
              "       117, 118, 119, 120, 121, 122, 123, 124, 125, 126, 127])"
            ]
          },
          "metadata": {
            "tags": []
          },
          "execution_count": 5
        }
      ]
    },
    {
      "metadata": {
        "id": "nGB-pGrkHBTH",
        "colab_type": "code",
        "outputId": "eb0f35cb-51d1-4678-bd40-72f3ee686a4a",
        "colab": {
          "base_uri": "https://localhost:8080/",
          "height": 34
        }
      },
      "cell_type": "code",
      "source": [
        "X_train['series_id'].unique()   #### 3810 observation which have label"
      ],
      "execution_count": 6,
      "outputs": [
        {
          "output_type": "execute_result",
          "data": {
            "text/plain": [
              "array([   0,    1,    2, ..., 3807, 3808, 3809])"
            ]
          },
          "metadata": {
            "tags": []
          },
          "execution_count": 6
        }
      ]
    },
    {
      "metadata": {
        "id": "VCiGwsznIDEx",
        "colab_type": "code",
        "colab": {}
      },
      "cell_type": "code",
      "source": [
        "### what is group id\n",
        "import seaborn as sns\n",
        "list(sorted(Y_train['group_id'].unique()))  ### contains output from 0 -72 :: 73 groups "
      ],
      "execution_count": 0,
      "outputs": []
    },
    {
      "metadata": {
        "id": "TZ6FMW8aIi8m",
        "colab_type": "code",
        "colab": {}
      },
      "cell_type": "code",
      "source": [
        "### need to find relation between groups and others \n",
        "\n",
        "### info from kaggle \n",
        "#shows that for each groupid, there is only one type of surface. That means, for one groupid, \n",
        "#they drove the robot on the \n",
        "#same surface (or similar) for multiple times (i.e. multiple series_id) and captured the data."
      ],
      "execution_count": 0,
      "outputs": []
    },
    {
      "metadata": {
        "id": "EqpmGsJfJDcC",
        "colab_type": "code",
        "colab": {}
      },
      "cell_type": "code",
      "source": [
        "### multi label classifier to be used \n",
        "### cv strategy  --> k fold , stratified k fold \n",
        "\n",
        "### feature engineering using concopt of physics\n",
        "\n"
      ],
      "execution_count": 0,
      "outputs": []
    },
    {
      "metadata": {
        "id": "402ORtEMKr4c",
        "colab_type": "code",
        "colab": {}
      },
      "cell_type": "code",
      "source": [
        "def quaternion_to_euler(x, y, z, w):\n",
        "    import math\n",
        "    t0 = +2.0 * (w * x + y * z)\n",
        "    t1 = +1.0 - 2.0 * (x * x + y * y)\n",
        "    X = math.atan2(t0, t1)\n",
        "\n",
        "    t2 = +2.0 * (w * y - z * x)\n",
        "    t2 = +1.0 if t2 > +1.0 else t2\n",
        "    t2 = -1.0 if t2 < -1.0 else t2\n",
        "    Y = math.asin(t2)\n",
        "\n",
        "    t3 = +2.0 * (w * z + x * y)\n",
        "    t4 = +1.0 - 2.0 * (y * y + z * z)\n",
        "    Z = math.atan2(t3, t4)\n",
        "\n",
        "    return X, Y, Z\n",
        "\n",
        "def fe(actual):\n",
        "    new = pd.DataFrame()\n",
        "    actual['total_angular_velocity'] = (actual['angular_velocity_X'] ** 2 + actual['angular_velocity_Y'] ** 2 + actual['angular_velocity_Z'] ** 2) ** 0.5\n",
        "    actual['total_linear_acceleration'] = (actual['linear_acceleration_X'] ** 2 + actual['linear_acceleration_Y'] ** 2 + actual['linear_acceleration_Z'] ** 2) ** 0.5\n",
        "    \n",
        "    actual['acc_vs_vel'] = actual['total_linear_acceleration'] / actual['total_angular_velocity']\n",
        "    \n",
        "    x, y, z, w = actual['orientation_X'].tolist(), actual['orientation_Y'].tolist(), actual['orientation_Z'].tolist(), actual['orientation_W'].tolist()\n",
        "    nx, ny, nz = [], [], []\n",
        "    for i in range(len(x)):\n",
        "        xx, yy, zz = quaternion_to_euler(x[i], y[i], z[i], w[i])\n",
        "        nx.append(xx)\n",
        "        ny.append(yy)\n",
        "        nz.append(zz)\n",
        "    \n",
        "    actual['euler_x'] = nx\n",
        "    actual['euler_y'] = ny\n",
        "    actual['euler_z'] = nz\n",
        "    \n",
        "    actual['total_angle'] = (actual['euler_x'] ** 2 + actual['euler_y'] ** 2 + actual['euler_z'] ** 2) ** 5\n",
        "    actual['angle_vs_acc'] = actual['total_angle'] / actual['total_linear_acceleration']\n",
        "    actual['angle_vs_vel'] = actual['total_angle'] / actual['total_angular_velocity']\n",
        "    \n",
        "    def f1(x):\n",
        "        return np.mean(np.diff(np.abs(np.diff(x))))\n",
        "    \n",
        "    def f2(x):\n",
        "        return np.mean(np.abs(np.diff(x)))\n",
        "    \n",
        "    for col in actual.columns:\n",
        "        if col in ['row_id', 'series_id', 'measurement_number']:\n",
        "            continue\n",
        "        new[col + '_mean'] = actual.groupby(['series_id'])[col].mean()\n",
        "        new[col + '_min'] = actual.groupby(['series_id'])[col].min()\n",
        "        new[col + '_max'] = actual.groupby(['series_id'])[col].max()\n",
        "        new[col + '_std'] = actual.groupby(['series_id'])[col].std()\n",
        "        new[col + '_max_to_min'] = new[col + '_max'] / new[col + '_min']\n",
        "        \n",
        "        # Change. 1st order.\n",
        "        new[col + '_mean_abs_change'] = actual.groupby('series_id')[col].apply(f2)\n",
        "        \n",
        "        # Change of Change. 2nd order.\n",
        "        new[col + '_mean_change_of_abs_change'] = actual.groupby('series_id')[col].apply(f1)\n",
        "        \n",
        "        new[col + '_abs_max'] = actual.groupby('series_id')[col].apply(lambda x: np.max(np.abs(x)))\n",
        "        new[col + '_abs_min'] = actual.groupby('series_id')[col].apply(lambda x: np.min(np.abs(x)))\n",
        "\n",
        "    return new"
      ],
      "execution_count": 0,
      "outputs": []
    },
    {
      "metadata": {
        "id": "Og2nm5fzL7gx",
        "colab_type": "code",
        "outputId": "77a20e30-7e4c-4b66-82e0-7ac831cc2c59",
        "colab": {
          "base_uri": "https://localhost:8080/",
          "height": 284
        }
      },
      "cell_type": "code",
      "source": [
        "X_train = fe(X_train)\n",
        "X_test = fe(X_test)\n",
        "X_train.head()"
      ],
      "execution_count": 9,
      "outputs": [
        {
          "output_type": "execute_result",
          "data": {
            "text/html": [
              "<div>\n",
              "<style scoped>\n",
              "    .dataframe tbody tr th:only-of-type {\n",
              "        vertical-align: middle;\n",
              "    }\n",
              "\n",
              "    .dataframe tbody tr th {\n",
              "        vertical-align: top;\n",
              "    }\n",
              "\n",
              "    .dataframe thead th {\n",
              "        text-align: right;\n",
              "    }\n",
              "</style>\n",
              "<table border=\"1\" class=\"dataframe\">\n",
              "  <thead>\n",
              "    <tr style=\"text-align: right;\">\n",
              "      <th></th>\n",
              "      <th>orientation_X_mean</th>\n",
              "      <th>orientation_X_min</th>\n",
              "      <th>orientation_X_max</th>\n",
              "      <th>orientation_X_std</th>\n",
              "      <th>orientation_X_max_to_min</th>\n",
              "      <th>orientation_X_mean_abs_change</th>\n",
              "      <th>orientation_X_mean_change_of_abs_change</th>\n",
              "      <th>orientation_X_abs_max</th>\n",
              "      <th>orientation_X_abs_min</th>\n",
              "      <th>orientation_Y_mean</th>\n",
              "      <th>...</th>\n",
              "      <th>angle_vs_acc_abs_min</th>\n",
              "      <th>angle_vs_vel_mean</th>\n",
              "      <th>angle_vs_vel_min</th>\n",
              "      <th>angle_vs_vel_max</th>\n",
              "      <th>angle_vs_vel_std</th>\n",
              "      <th>angle_vs_vel_max_to_min</th>\n",
              "      <th>angle_vs_vel_mean_abs_change</th>\n",
              "      <th>angle_vs_vel_mean_change_of_abs_change</th>\n",
              "      <th>angle_vs_vel_abs_max</th>\n",
              "      <th>angle_vs_vel_abs_min</th>\n",
              "    </tr>\n",
              "    <tr>\n",
              "      <th>series_id</th>\n",
              "      <th></th>\n",
              "      <th></th>\n",
              "      <th></th>\n",
              "      <th></th>\n",
              "      <th></th>\n",
              "      <th></th>\n",
              "      <th></th>\n",
              "      <th></th>\n",
              "      <th></th>\n",
              "      <th></th>\n",
              "      <th></th>\n",
              "      <th></th>\n",
              "      <th></th>\n",
              "      <th></th>\n",
              "      <th></th>\n",
              "      <th></th>\n",
              "      <th></th>\n",
              "      <th></th>\n",
              "      <th></th>\n",
              "      <th></th>\n",
              "      <th></th>\n",
              "    </tr>\n",
              "  </thead>\n",
              "  <tbody>\n",
              "    <tr>\n",
              "      <th>0</th>\n",
              "      <td>-0.758666</td>\n",
              "      <td>-0.75953</td>\n",
              "      <td>-0.75822</td>\n",
              "      <td>0.000363</td>\n",
              "      <td>0.998275</td>\n",
              "      <td>0.000015</td>\n",
              "      <td>2.380952e-07</td>\n",
              "      <td>0.75953</td>\n",
              "      <td>0.75822</td>\n",
              "      <td>-0.634008</td>\n",
              "      <td>...</td>\n",
              "      <td>8090.592033</td>\n",
              "      <td>2.278501e+06</td>\n",
              "      <td>6.255962e+05</td>\n",
              "      <td>9.597909e+06</td>\n",
              "      <td>1.409996e+06</td>\n",
              "      <td>15.342019</td>\n",
              "      <td>1.198969e+06</td>\n",
              "      <td>8924.000999</td>\n",
              "      <td>9.597909e+06</td>\n",
              "      <td>6.255962e+05</td>\n",
              "    </tr>\n",
              "    <tr>\n",
              "      <th>1</th>\n",
              "      <td>-0.958606</td>\n",
              "      <td>-0.95896</td>\n",
              "      <td>-0.95837</td>\n",
              "      <td>0.000151</td>\n",
              "      <td>0.999385</td>\n",
              "      <td>0.000023</td>\n",
              "      <td>-4.761905e-07</td>\n",
              "      <td>0.95896</td>\n",
              "      <td>0.95837</td>\n",
              "      <td>0.241867</td>\n",
              "      <td>...</td>\n",
              "      <td>2339.913394</td>\n",
              "      <td>4.613413e+05</td>\n",
              "      <td>1.377975e+05</td>\n",
              "      <td>1.957088e+06</td>\n",
              "      <td>2.979271e+05</td>\n",
              "      <td>14.202636</td>\n",
              "      <td>2.049951e+05</td>\n",
              "      <td>569.164381</td>\n",
              "      <td>1.957088e+06</td>\n",
              "      <td>1.377975e+05</td>\n",
              "    </tr>\n",
              "    <tr>\n",
              "      <th>2</th>\n",
              "      <td>-0.512057</td>\n",
              "      <td>-0.51434</td>\n",
              "      <td>-0.50944</td>\n",
              "      <td>0.001377</td>\n",
              "      <td>0.990473</td>\n",
              "      <td>0.000041</td>\n",
              "      <td>0.000000e+00</td>\n",
              "      <td>0.51434</td>\n",
              "      <td>0.50944</td>\n",
              "      <td>-0.846171</td>\n",
              "      <td>...</td>\n",
              "      <td>22485.416514</td>\n",
              "      <td>5.372327e+06</td>\n",
              "      <td>1.674839e+06</td>\n",
              "      <td>2.866679e+07</td>\n",
              "      <td>3.802655e+06</td>\n",
              "      <td>17.116144</td>\n",
              "      <td>2.355426e+06</td>\n",
              "      <td>-9135.272306</td>\n",
              "      <td>2.866679e+07</td>\n",
              "      <td>1.674839e+06</td>\n",
              "    </tr>\n",
              "    <tr>\n",
              "      <th>3</th>\n",
              "      <td>-0.939169</td>\n",
              "      <td>-0.93968</td>\n",
              "      <td>-0.93884</td>\n",
              "      <td>0.000227</td>\n",
              "      <td>0.999106</td>\n",
              "      <td>0.000026</td>\n",
              "      <td>-6.349206e-07</td>\n",
              "      <td>0.93968</td>\n",
              "      <td>0.93884</td>\n",
              "      <td>0.310140</td>\n",
              "      <td>...</td>\n",
              "      <td>2157.840573</td>\n",
              "      <td>4.765087e+05</td>\n",
              "      <td>8.652378e+04</td>\n",
              "      <td>3.121275e+06</td>\n",
              "      <td>4.627398e+05</td>\n",
              "      <td>36.074189</td>\n",
              "      <td>2.981020e+05</td>\n",
              "      <td>17412.401283</td>\n",
              "      <td>3.121275e+06</td>\n",
              "      <td>8.652378e+04</td>\n",
              "    </tr>\n",
              "    <tr>\n",
              "      <th>4</th>\n",
              "      <td>-0.891301</td>\n",
              "      <td>-0.89689</td>\n",
              "      <td>-0.88673</td>\n",
              "      <td>0.002955</td>\n",
              "      <td>0.988672</td>\n",
              "      <td>0.000080</td>\n",
              "      <td>7.936508e-08</td>\n",
              "      <td>0.89689</td>\n",
              "      <td>0.88673</td>\n",
              "      <td>0.428144</td>\n",
              "      <td>...</td>\n",
              "      <td>4804.885067</td>\n",
              "      <td>3.694817e+05</td>\n",
              "      <td>2.330043e+05</td>\n",
              "      <td>6.165090e+05</td>\n",
              "      <td>9.199986e+04</td>\n",
              "      <td>2.645912</td>\n",
              "      <td>2.281891e+04</td>\n",
              "      <td>-70.793166</td>\n",
              "      <td>6.165090e+05</td>\n",
              "      <td>2.330043e+05</td>\n",
              "    </tr>\n",
              "  </tbody>\n",
              "</table>\n",
              "<p>5 rows × 171 columns</p>\n",
              "</div>"
            ],
            "text/plain": [
              "           orientation_X_mean  orientation_X_min  orientation_X_max  \\\n",
              "series_id                                                             \n",
              "0                   -0.758666           -0.75953           -0.75822   \n",
              "1                   -0.958606           -0.95896           -0.95837   \n",
              "2                   -0.512057           -0.51434           -0.50944   \n",
              "3                   -0.939169           -0.93968           -0.93884   \n",
              "4                   -0.891301           -0.89689           -0.88673   \n",
              "\n",
              "           orientation_X_std  orientation_X_max_to_min  \\\n",
              "series_id                                                \n",
              "0                   0.000363                  0.998275   \n",
              "1                   0.000151                  0.999385   \n",
              "2                   0.001377                  0.990473   \n",
              "3                   0.000227                  0.999106   \n",
              "4                   0.002955                  0.988672   \n",
              "\n",
              "           orientation_X_mean_abs_change  \\\n",
              "series_id                                  \n",
              "0                               0.000015   \n",
              "1                               0.000023   \n",
              "2                               0.000041   \n",
              "3                               0.000026   \n",
              "4                               0.000080   \n",
              "\n",
              "           orientation_X_mean_change_of_abs_change  orientation_X_abs_max  \\\n",
              "series_id                                                                   \n",
              "0                                     2.380952e-07                0.75953   \n",
              "1                                    -4.761905e-07                0.95896   \n",
              "2                                     0.000000e+00                0.51434   \n",
              "3                                    -6.349206e-07                0.93968   \n",
              "4                                     7.936508e-08                0.89689   \n",
              "\n",
              "           orientation_X_abs_min  orientation_Y_mean          ...           \\\n",
              "series_id                                                     ...            \n",
              "0                        0.75822           -0.634008          ...            \n",
              "1                        0.95837            0.241867          ...            \n",
              "2                        0.50944           -0.846171          ...            \n",
              "3                        0.93884            0.310140          ...            \n",
              "4                        0.88673            0.428144          ...            \n",
              "\n",
              "           angle_vs_acc_abs_min  angle_vs_vel_mean  angle_vs_vel_min  \\\n",
              "series_id                                                              \n",
              "0                   8090.592033       2.278501e+06      6.255962e+05   \n",
              "1                   2339.913394       4.613413e+05      1.377975e+05   \n",
              "2                  22485.416514       5.372327e+06      1.674839e+06   \n",
              "3                   2157.840573       4.765087e+05      8.652378e+04   \n",
              "4                   4804.885067       3.694817e+05      2.330043e+05   \n",
              "\n",
              "           angle_vs_vel_max  angle_vs_vel_std  angle_vs_vel_max_to_min  \\\n",
              "series_id                                                                \n",
              "0              9.597909e+06      1.409996e+06                15.342019   \n",
              "1              1.957088e+06      2.979271e+05                14.202636   \n",
              "2              2.866679e+07      3.802655e+06                17.116144   \n",
              "3              3.121275e+06      4.627398e+05                36.074189   \n",
              "4              6.165090e+05      9.199986e+04                 2.645912   \n",
              "\n",
              "           angle_vs_vel_mean_abs_change  \\\n",
              "series_id                                 \n",
              "0                          1.198969e+06   \n",
              "1                          2.049951e+05   \n",
              "2                          2.355426e+06   \n",
              "3                          2.981020e+05   \n",
              "4                          2.281891e+04   \n",
              "\n",
              "           angle_vs_vel_mean_change_of_abs_change  angle_vs_vel_abs_max  \\\n",
              "series_id                                                                 \n",
              "0                                     8924.000999          9.597909e+06   \n",
              "1                                      569.164381          1.957088e+06   \n",
              "2                                    -9135.272306          2.866679e+07   \n",
              "3                                    17412.401283          3.121275e+06   \n",
              "4                                      -70.793166          6.165090e+05   \n",
              "\n",
              "           angle_vs_vel_abs_min  \n",
              "series_id                        \n",
              "0                  6.255962e+05  \n",
              "1                  1.377975e+05  \n",
              "2                  1.674839e+06  \n",
              "3                  8.652378e+04  \n",
              "4                  2.330043e+05  \n",
              "\n",
              "[5 rows x 171 columns]"
            ]
          },
          "metadata": {
            "tags": []
          },
          "execution_count": 9
        }
      ]
    },
    {
      "metadata": {
        "id": "wOAexb9jFWHa",
        "colab_type": "code",
        "outputId": "8e4844dc-9cb5-4108-9c10-af6116d95387",
        "colab": {
          "base_uri": "https://localhost:8080/",
          "height": 34
        }
      },
      "cell_type": "code",
      "source": [
        "import seaborn as sns\n",
        "len(X_train.index), len(X_test.index)\n"
      ],
      "execution_count": 10,
      "outputs": [
        {
          "output_type": "execute_result",
          "data": {
            "text/plain": [
              "(3810, 3816)"
            ]
          },
          "metadata": {
            "tags": []
          },
          "execution_count": 10
        }
      ]
    },
    {
      "metadata": {
        "id": "XS8M2qgRluSI",
        "colab_type": "code",
        "outputId": "a4237e1a-b6b5-4661-9623-e0276702629c",
        "colab": {
          "base_uri": "https://localhost:8080/",
          "height": 221
        }
      },
      "cell_type": "code",
      "source": [
        "### heirarchichal access it index\n",
        "X_train.index\n",
        "X_train.columns"
      ],
      "execution_count": 11,
      "outputs": [
        {
          "output_type": "execute_result",
          "data": {
            "text/plain": [
              "Index(['orientation_X_mean', 'orientation_X_min', 'orientation_X_max',\n",
              "       'orientation_X_std', 'orientation_X_max_to_min',\n",
              "       'orientation_X_mean_abs_change',\n",
              "       'orientation_X_mean_change_of_abs_change', 'orientation_X_abs_max',\n",
              "       'orientation_X_abs_min', 'orientation_Y_mean',\n",
              "       ...\n",
              "       'angle_vs_acc_abs_min', 'angle_vs_vel_mean', 'angle_vs_vel_min',\n",
              "       'angle_vs_vel_max', 'angle_vs_vel_std', 'angle_vs_vel_max_to_min',\n",
              "       'angle_vs_vel_mean_abs_change',\n",
              "       'angle_vs_vel_mean_change_of_abs_change', 'angle_vs_vel_abs_max',\n",
              "       'angle_vs_vel_abs_min'],\n",
              "      dtype='object', length=171)"
            ]
          },
          "metadata": {
            "tags": []
          },
          "execution_count": 11
        }
      ]
    },
    {
      "metadata": {
        "id": "1cKuFpY-mCqI",
        "colab_type": "code",
        "outputId": "c6187869-7e9c-4571-d7d3-e0325dd57c4c",
        "colab": {
          "base_uri": "https://localhost:8080/",
          "height": 68
        }
      },
      "cell_type": "code",
      "source": [
        "Y_train['surface'].unique()"
      ],
      "execution_count": 12,
      "outputs": [
        {
          "output_type": "execute_result",
          "data": {
            "text/plain": [
              "array(['fine_concrete', 'concrete', 'soft_tiles', 'tiled', 'soft_pvc',\n",
              "       'hard_tiles_large_space', 'carpet', 'hard_tiles', 'wood'],\n",
              "      dtype=object)"
            ]
          },
          "metadata": {
            "tags": []
          },
          "execution_count": 12
        }
      ]
    },
    {
      "metadata": {
        "id": "5IDQIfJqmMf-",
        "colab_type": "code",
        "colab": {}
      },
      "cell_type": "code",
      "source": [
        "dict = {'fine_concrete':0 , 'concrete':1, 'soft_tiles':2, 'tiled':3, 'soft_pvc':4,\n",
        "       'hard_tiles_large_space':5, 'carpet':6, 'hard_tiles':7, 'wood':8}\n",
        "\n",
        "Y_train['surface'].replace(dict, inplace = True)"
      ],
      "execution_count": 0,
      "outputs": []
    },
    {
      "metadata": {
        "id": "pcfqznAFpUGq",
        "colab_type": "code",
        "colab": {}
      },
      "cell_type": "code",
      "source": [
        "### now we create models "
      ],
      "execution_count": 0,
      "outputs": []
    },
    {
      "metadata": {
        "id": "N8COMxnQrKsF",
        "colab_type": "code",
        "colab": {}
      },
      "cell_type": "code",
      "source": [
        "### models :::: multi class labels \n",
        "\n",
        "### now stacking of the models will be done \n",
        "## sub models -> logistic regression , knn ---> logistic regression\n",
        "### sub models -> logistic regression , rf , xgboost ---> logistic regression\n",
        "### create a final model after fitting on it \n",
        "\n",
        "\n"
      ],
      "execution_count": 0,
      "outputs": []
    },
    {
      "metadata": {
        "id": "HOuNc5X2t_q0",
        "colab_type": "code",
        "outputId": "0ab4c78d-cbd5-4bb2-f583-40d96ef78e82",
        "colab": {
          "base_uri": "https://localhost:8080/",
          "height": 221
        }
      },
      "cell_type": "code",
      "source": [
        "X_train.columns"
      ],
      "execution_count": 14,
      "outputs": [
        {
          "output_type": "execute_result",
          "data": {
            "text/plain": [
              "Index(['orientation_X_mean', 'orientation_X_min', 'orientation_X_max',\n",
              "       'orientation_X_std', 'orientation_X_max_to_min',\n",
              "       'orientation_X_mean_abs_change',\n",
              "       'orientation_X_mean_change_of_abs_change', 'orientation_X_abs_max',\n",
              "       'orientation_X_abs_min', 'orientation_Y_mean',\n",
              "       ...\n",
              "       'angle_vs_acc_abs_min', 'angle_vs_vel_mean', 'angle_vs_vel_min',\n",
              "       'angle_vs_vel_max', 'angle_vs_vel_std', 'angle_vs_vel_max_to_min',\n",
              "       'angle_vs_vel_mean_abs_change',\n",
              "       'angle_vs_vel_mean_change_of_abs_change', 'angle_vs_vel_abs_max',\n",
              "       'angle_vs_vel_abs_min'],\n",
              "      dtype='object', length=171)"
            ]
          },
          "metadata": {
            "tags": []
          },
          "execution_count": 14
        }
      ]
    },
    {
      "metadata": {
        "id": "EhMvn7nmrcpk",
        "colab_type": "code",
        "colab": {}
      },
      "cell_type": "code",
      "source": [
        "from sklearn.neighbors import KNeighborsClassifier\n",
        "from sklearn.linear_model import LogisticRegression \n",
        "from sklearn.ensemble import RandomForestClassifier\n",
        "import xgboost as xgb\n",
        "from sklearn.model_selection import KFold\n",
        "from sklearn.metrics import accuracy_score\n",
        "import lightgbm as gbm\n",
        "\n",
        "\n"
      ],
      "execution_count": 0,
      "outputs": []
    },
    {
      "metadata": {
        "id": "wdj8rwG270cz",
        "colab_type": "code",
        "colab": {}
      },
      "cell_type": "code",
      "source": [
        "### knn needs some LDA or PCA on the data befreo making prediction \n",
        "### ensemble models are not affected by cdorrelated features"
      ],
      "execution_count": 0,
      "outputs": []
    },
    {
      "metadata": {
        "id": "LrgZ7Lz3qmLB",
        "colab_type": "code",
        "colab": {}
      },
      "cell_type": "code",
      "source": [
        "## grid search -----> DO THIS TO GET THE MODEL FOR XGBOOST\n",
        "'''from sklearn.model_selection import GridSearchCV\n",
        "model = xgb.XGBClassifier(objective='multi:softprob', nthread=4,  seed=39)\n",
        "\n",
        "params = {  'learning_rate':[0.1,0.01, 0.5], \n",
        "             'n_estimators':[100,200], \n",
        "              'max_depth':[5,10,15],\n",
        "               \n",
        "              'gamma':[1,0.1,0.01]                        \n",
        "          }\n",
        "clf  = GridSearchCV( model ,params,cv =5   )\n",
        "clf.fit(X_train, Y_train['surface'])\n",
        "clf.best_params_\n",
        "\n",
        "'''"
      ],
      "execution_count": 0,
      "outputs": []
    },
    {
      "metadata": {
        "id": "liF3nsrquY1m",
        "colab_type": "code",
        "colab": {}
      },
      "cell_type": "code",
      "source": [
        "'''val_scores = []\n",
        "train_scores = []\n",
        "kf = KFold(n_splits = 5 , shuffle =True , random_state = 3939)\n",
        "i =0 \n",
        "for (train_index , val_index) in kf.split(X_train ,Y_train['surface']) :\n",
        "  print(\"FOLD -\",i)\n",
        "  i = i+1\n",
        "  X_train_set  , Y_train_set = X_train.iloc[train_index] , Y_train['surface'].iloc[train_index]\n",
        "  X_val_set , Y_val_set = X_train.iloc[val_index] , Y_train['surface'].iloc[val_index]\n",
        "  \n",
        "  model = xgb.XGBClassifier(learning_rate=0.1, n_estimators=100, max_depth=5, gamma=3, \n",
        "                        objective='multi:softprob', nthread=4,  seed=3939)\n",
        "  #model = RandomForestClassifier(n_estimators = 200 , n_jobs =-1)\n",
        "  #model = KNeighborsClassifier(n_neighbors = 5)  -> need LDA or PCA \n",
        "  #model = LogisticRegression(solver = 'lbfgs', max_iter = 4000 , multi_class = 'multinomial')\n",
        "  model.fit(X_train_set,Y_train_set)\n",
        "  \n",
        "  print('train_score->' , accuracy_score(Y_train_set, model.predict(X_train_set)) , 'val_score-->' , accuracy_score(Y_val_set, model.predict(X_val_set)))\n",
        "    #val_scores.append(accuracy_score(Y_val_set, knn.predict(X_val_set)))\n",
        "    #train_scores.append(accuracy_score(Y_train_set, knn.predict(X_train_set)))\n",
        "    \n",
        "'''"
      ],
      "execution_count": 0,
      "outputs": []
    },
    {
      "metadata": {
        "id": "caVYNbejDZpl",
        "colab_type": "code",
        "colab": {}
      },
      "cell_type": "code",
      "source": [
        "# light gmb submission ---> to be ensembled with xgboost , rf with trained hyperparameters"
      ],
      "execution_count": 0,
      "outputs": []
    },
    {
      "metadata": {
        "id": "50L0jOMCjujB",
        "colab_type": "code",
        "colab": {}
      },
      "cell_type": "code",
      "source": [
        "model_knn = KNeighborsClassifier(n_neighbors = 5)\n",
        "model_xgboost =xgb.XGBClassifier(learning_rate=0.1, n_estimators=100, max_depth=5, gamma=3, \n",
        "                        objective='multi:softprob', nthread=4,  seed=3939)\n",
        "model_rf = RandomForestClassifier(n_estimators = 200 , n_jobs =-1)\n",
        "model_logistic = LogisticRegression(solver = 'lbfgs', max_iter = 4000 , multi_class = 'multinomial')\n"
      ],
      "execution_count": 0,
      "outputs": []
    },
    {
      "metadata": {
        "id": "MnhXHDBSlgxz",
        "colab_type": "code",
        "colab": {
          "base_uri": "https://localhost:8080/",
          "height": 139
        },
        "outputId": "f4ce9714-dd11-4ba3-d990-d8c86acde59f"
      },
      "cell_type": "code",
      "source": [
        "model_knn.fit(X_train,Y_train['surface'])\n",
        "model_xgboost.fit(X_train,Y_train['surface'])\n",
        "model_rf.fit(X_train,Y_train['surface'])\n",
        "model_logistic.fit(X_train,Y_train['surface'])"
      ],
      "execution_count": 17,
      "outputs": [
        {
          "output_type": "stream",
          "text": [
            "/usr/local/lib/python3.6/dist-packages/sklearn/linear_model/logistic.py:758: ConvergenceWarning: lbfgs failed to converge. Increase the number of iterations.\n",
            "  \"of iterations.\", ConvergenceWarning)\n"
          ],
          "name": "stderr"
        },
        {
          "output_type": "execute_result",
          "data": {
            "text/plain": [
              "LogisticRegression(C=1.0, class_weight=None, dual=False, fit_intercept=True,\n",
              "          intercept_scaling=1, max_iter=4000, multi_class='multinomial',\n",
              "          n_jobs=None, penalty='l2', random_state=None, solver='lbfgs',\n",
              "          tol=0.0001, verbose=0, warm_start=False)"
            ]
          },
          "metadata": {
            "tags": []
          },
          "execution_count": 17
        }
      ]
    },
    {
      "metadata": {
        "id": "BwgJWq09kQ7h",
        "colab_type": "code",
        "colab": {}
      },
      "cell_type": "code",
      "source": [
        "xg_pred = model_xgboost.predict(X_train)\n",
        "rf_pred = model_rf.predict(X_train)\n",
        "logistic_pred = model_logistic.predict(X_train)\n",
        "knn_pred = model_knn.predict(X_train)"
      ],
      "execution_count": 0,
      "outputs": []
    },
    {
      "metadata": {
        "id": "ni8jXMb4kLGS",
        "colab_type": "code",
        "colab": {}
      },
      "cell_type": "code",
      "source": [
        "stacked_df = pd.DataFrame({'xg':xg_pred,'rf':rf_pred,'logistic':logistic_pred,'knn':knn_pred,\n",
        "              })\n",
        "\n"
      ],
      "execution_count": 0,
      "outputs": []
    },
    {
      "metadata": {
        "id": "koXMABIzlIzk",
        "colab_type": "code",
        "colab": {}
      },
      "cell_type": "code",
      "source": [
        "stacked_logistic = LogisticRegression(solver = 'lbfgs', max_iter = 4000 , multi_class = 'multinomial')\n",
        "stacked_logistic.fit(stacked_df,Y_train['surface'])\n",
        "stacked_pred = stacked_logistic.predict(stacked_df)\n"
      ],
      "execution_count": 0,
      "outputs": []
    },
    {
      "metadata": {
        "id": "9RBTsnUvDido",
        "colab_type": "code",
        "outputId": "b35a9fd2-0cae-4b28-837e-b525126380ab",
        "colab": {
          "base_uri": "https://localhost:8080/",
          "height": 34
        }
      },
      "cell_type": "code",
      "source": [
        "score = accuracy_score(Y_train['surface'],stacked_pred)\n",
        "score"
      ],
      "execution_count": 22,
      "outputs": [
        {
          "output_type": "execute_result",
          "data": {
            "text/plain": [
              "0.9884514435695538"
            ]
          },
          "metadata": {
            "tags": []
          },
          "execution_count": 22
        }
      ]
    },
    {
      "metadata": {
        "id": "vuag0mJZ2C-q",
        "colab_type": "code",
        "outputId": "3252d993-10fe-416f-d53a-164591bfe2bb",
        "colab": {
          "base_uri": "https://localhost:8080/",
          "height": 102
        }
      },
      "cell_type": "code",
      "source": [
        "### predict using sub models\n",
        "xg_pred = model_xgboost.predict(X_test)\n",
        "rf_pred = model_rf.predict(X_test)\n",
        "logistic_pred = model_logistic.predict(X_test)\n",
        "knn_pred = model_knn.predict(X_test)\n",
        "\n",
        "stacked_test_df = pd.DataFrame({'xg':xg_pred,'rf':rf_pred,'logistic':logistic_pred,'knn':knn_pred,\n",
        "              })\n",
        "\n",
        "\n",
        "\n",
        "\n",
        "stacked_test_pred = stacked_logistic.predict(stacked_test_df)\n",
        "# encode the prediction \n",
        "decode_dict = {0:'fine_concrete' , 1:'concrete', 2:'soft_tiles', 3:'tiled', 4:'soft_pvc',\n",
        "       5:'hard_tiles_large_space', 6:'carpet', 7:'hard_tiles', 8:'wood'}\n",
        "\n",
        "stacked_test_pred = [decode_dict[x] for x in stacked_test_pred]\n",
        "stacked_test_pred[:5]\n"
      ],
      "execution_count": 24,
      "outputs": [
        {
          "output_type": "execute_result",
          "data": {
            "text/plain": [
              "['hard_tiles_large_space',\n",
              " 'concrete',\n",
              " 'tiled',\n",
              " 'hard_tiles_large_space',\n",
              " 'soft_tiles']"
            ]
          },
          "metadata": {
            "tags": []
          },
          "execution_count": 24
        }
      ]
    },
    {
      "metadata": {
        "id": "fHPwtpOR2KL7",
        "colab_type": "code",
        "colab": {}
      },
      "cell_type": "code",
      "source": [
        "stacked_v1 = pd.DataFrame({'series_id':X_test.index , 'surface':stacked_test_pred})\n",
        "stacked_v1.to_csv('stacked_v1.csv',index = False)\n",
        "\n",
        "### this code outputs the prediction from rf which uses 200 n_estimators \n",
        "### probably overfits\n"
      ],
      "execution_count": 0,
      "outputs": []
    },
    {
      "metadata": {
        "id": "CdEJqFDzE8ig",
        "colab_type": "code",
        "colab": {}
      },
      "cell_type": "code",
      "source": [
        ""
      ],
      "execution_count": 0,
      "outputs": []
    }
  ]
}